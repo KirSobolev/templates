{
 "cells": [
  {
   "cell_type": "code",
   "execution_count": 1,
   "metadata": {},
   "outputs": [],
   "source": [
    "from pandas import read_csv\n",
    "from Benchmarking import RegressionBenchmark, ClassificationBenchmark"
   ]
  },
  {
   "cell_type": "code",
   "execution_count": 2,
   "metadata": {},
   "outputs": [
    {
     "name": "stderr",
     "output_type": "stream",
     "text": [
      "2025-02-13 15:06:15,658 - INFO - Training LinearRegression...\n",
      "2025-02-13 15:06:15,661 - INFO - Training SVR...\n",
      "2025-02-13 15:06:15,713 - INFO - Training RandomForestRegressor...\n",
      "2025-02-13 15:06:15,946 - INFO - Training XGBRegressor...\n",
      "2025-02-13 15:06:16,087 - INFO - Training LGBMRegressor...\n",
      "2025-02-13 15:06:16,439 - INFO - Training KNNRegressor...\n",
      "2025-02-13 15:06:16,934 - INFO - Training CatBoostRegressor...\n",
      "2025-02-13 15:06:16,934 - INFO - Categorical variable list was not provided. Skipping CatBoost model...\n"
     ]
    },
    {
     "name": "stdout",
     "output_type": "stream",
     "text": [
      "\n",
      "Benchmarking Results:\n",
      " |    | Model                 |      MSE |    RMSE |     MAE |     R2 |   Time (ms) |\n",
      "|---:|:----------------------|---------:|--------:|--------:|-------:|------------:|\n",
      "|  0 | LinearRegression      | 109845   | 331.428 | 253.313 | 0.7482 |        1.94 |\n",
      "|  1 | SVR                   | 412193   | 642.023 | 494.421 | 0.0553 |       33.87 |\n",
      "|  2 | RandomForestRegressor |  61752.3 | 248.5   | 172.501 | 0.8585 |      227.85 |\n",
      "|  3 | XGBRegressor          |  71446.7 | 267.295 | 175.405 | 0.8363 |      139.47 |\n",
      "|  4 | LGBMRegressor         |  71730.5 | 267.825 | 179.924 | 0.8356 |      349.24 |\n",
      "|  5 | KNNRegressor          | 120900   | 347.707 | 247.222 | 0.7229 |      493.31 |\n"
     ]
    }
   ],
   "source": [
    "df_reg = read_csv(\"lin_reg_df_clean.csv\")\n",
    "df_reg_target = \"Price_euros\"\n",
    "reg = RegressionBenchmark(df_reg, df_reg_target)\n",
    "reg.benchmark()"
   ]
  },
  {
   "cell_type": "code",
   "execution_count": 3,
   "metadata": {},
   "outputs": [
    {
     "name": "stderr",
     "output_type": "stream",
     "text": [
      "2025-02-13 15:06:16,984 - INFO - Training LogisticRegression...\n",
      "2025-02-13 15:06:17,064 - INFO - Training SVC...\n",
      "2025-02-13 15:06:25,238 - INFO - Training RandomForestClassifier...\n",
      "2025-02-13 15:06:26,397 - INFO - Training XGBClassifier...\n",
      "2025-02-13 15:06:26,588 - INFO - Training LGBMClassifier...\n",
      "2025-02-13 15:06:27,045 - INFO - Training KNNClassifier...\n",
      "2025-02-13 15:06:43,206 - INFO - Training CatBoostClassifier...\n"
     ]
    },
    {
     "name": "stdout",
     "output_type": "stream",
     "text": [
      "\n",
      "Benchmarking Results:\n",
      " |    | Model                  |   Accuracy |   Precision |   Recall |   F1-score |   Time (ms) |\n",
      "|---:|:-----------------------|-----------:|------------:|---------:|-----------:|------------:|\n",
      "|  0 | LogisticRegression     |     0.7834 |      0.7713 |   0.7437 |     0.7529 |       61.69 |\n",
      "|  1 | SVC                    |     0.8032 |      0.801  |   0.7592 |     0.7719 |     5779.94 |\n",
      "|  2 | RandomForestClassifier |     0.8736 |      0.8686 |   0.8528 |     0.8596 |     1080.53 |\n",
      "|  3 | XGBClassifier          |     0.8745 |      0.8696 |   0.8536 |     0.8605 |      181.75 |\n",
      "|  4 | LGBMClassifier         |     0.8665 |      0.8621 |   0.8432 |     0.8511 |      441.34 |\n",
      "|  5 | KNNClassifier          |     0.8291 |      0.8156 |   0.8093 |     0.8122 |    15968.6  |\n",
      "|  6 | CatBoostClassifier     |     0.8645 |      0.861  |   0.8396 |     0.8483 |     9161.26 |\n"
     ]
    }
   ],
   "source": [
    "df_class =  read_csv(\"log_reg_df_clean.csv\")\n",
    "df_class_target = \"booking_status\"\n",
    "categorical_variables = [\"type_of_meal_plan\", \"room_type_reserved_Room_Type 1\", \"room_type_reserved_Room_Type 2\",\n",
    "                         \"room_type_reserved_Room_Type 4\", \"market_segment_type_Offline\", \"market_segment_type_Online\"]\n",
    "classif = ClassificationBenchmark(df_class, df_class_target, categorical_variables=categorical_variables)\n",
    "classif.benchmark()"
   ]
  },
  {
   "cell_type": "code",
   "execution_count": null,
   "metadata": {},
   "outputs": [],
   "source": []
  }
 ],
 "metadata": {
  "kernelspec": {
   "display_name": ".venv",
   "language": "python",
   "name": "python3"
  },
  "language_info": {
   "codemirror_mode": {
    "name": "ipython",
    "version": 3
   },
   "file_extension": ".py",
   "mimetype": "text/x-python",
   "name": "python",
   "nbconvert_exporter": "python",
   "pygments_lexer": "ipython3",
   "version": "3.10.16"
  }
 },
 "nbformat": 4,
 "nbformat_minor": 2
}
