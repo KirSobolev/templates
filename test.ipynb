{
 "cells": [
  {
   "cell_type": "code",
   "execution_count": 6,
   "metadata": {},
   "outputs": [],
   "source": [
    "from pandas import read_csv\n",
    "from Benchmarking import Benchmarking\n",
    "\n"
   ]
  },
  {
   "cell_type": "code",
   "execution_count": 7,
   "metadata": {},
   "outputs": [
    {
     "name": "stdout",
     "output_type": "stream",
     "text": [
      "Training LinearRegression...\n",
      "Training SVR...\n",
      "Training RandomForestRegressor...\n",
      "Training XGBRegressor...\n",
      "Training LGBMRegressor...\n",
      "[LightGBM] [Warning] Found whitespace in feature_names, replace with underlines\n",
      "[LightGBM] [Info] Auto-choosing row-wise multi-threading, the overhead of testing was 0.000458 seconds.\n",
      "You can set `force_row_wise=true` to remove the overhead.\n",
      "And if memory is not enough, you can set `force_col_wise=true`.\n",
      "[LightGBM] [Info] Total Bins 228\n",
      "[LightGBM] [Info] Number of data points in the train set: 1034, number of used features: 28\n",
      "[LightGBM] [Info] Start training from score 1098.860203\n",
      "\n",
      "\n",
      "|    | Metric                  |   LinearRegression |            SVR |   RandomForestRegressor |   XGBRegressor |   LGBMRegressor |\n",
      "|---:|:------------------------|-------------------:|---------------:|------------------------:|---------------:|----------------:|\n",
      "|  0 | Mean Squared Error      |    109563          | 433168         |            64364.1      |   71446.7      |     71730.5     |\n",
      "|  1 | Root Mean Squared Error |       331          |    658.16      |              253.7      |     267.3      |       267.83    |\n",
      "|  2 | Mean Absolute Error     |       253.36       |    511.63      |              174.51     |     175.41     |       179.92    |\n",
      "|  3 | R-squared               |         0.75       |      0.01      |                0.85     |       0.84     |         0.84    |\n",
      "|  4 | Time consumed           |         0.00351596 |      0.0305591 |                0.231264 |       0.125584 |         0.34726 |\n"
     ]
    }
   ],
   "source": [
    "df_reg =  read_csv(\"lin_reg_df_clean.csv\")\n",
    "df_reg_target = \"Price_euros\"\n",
    "reg = Benchmarking(df_reg, df_reg_target, mode=\"regression\")\n",
    "reg.benchmark()"
   ]
  },
  {
   "cell_type": "code",
   "execution_count": 8,
   "metadata": {},
   "outputs": [
    {
     "name": "stdout",
     "output_type": "stream",
     "text": [
      "Training LogisticRegression...\n",
      "Training SVC...\n"
     ]
    },
    {
     "name": "stderr",
     "output_type": "stream",
     "text": [
      "/Users/kirillsobolev/Documents/GitHub/templates/.venv/lib/python3.10/site-packages/sklearn/linear_model/_logistic.py:469: ConvergenceWarning: lbfgs failed to converge (status=1):\n",
      "STOP: TOTAL NO. of ITERATIONS REACHED LIMIT.\n",
      "\n",
      "Increase the number of iterations (max_iter) or scale the data as shown in:\n",
      "    https://scikit-learn.org/stable/modules/preprocessing.html\n",
      "Please also refer to the documentation for alternative solver options:\n",
      "    https://scikit-learn.org/stable/modules/linear_model.html#logistic-regression\n",
      "  n_iter_i = _check_optimize_result(\n"
     ]
    },
    {
     "name": "stdout",
     "output_type": "stream",
     "text": [
      "Training RandomForestClassifier...\n",
      "Training XGBClassifier...\n",
      "Training LGBMClassifier...\n",
      "[LightGBM] [Warning] Found whitespace in feature_names, replace with underlines\n",
      "[LightGBM] [Info] Number of positive: 15498, number of negative: 8142\n",
      "[LightGBM] [Info] Auto-choosing row-wise multi-threading, the overhead of testing was 0.000911 seconds.\n",
      "You can set `force_row_wise=true` to remove the overhead.\n",
      "And if memory is not enough, you can set `force_col_wise=true`.\n",
      "[LightGBM] [Info] Total Bins 526\n",
      "[LightGBM] [Info] Number of data points in the train set: 23640, number of used features: 12\n",
      "[LightGBM] [Info] [binary:BoostFromScore]: pavg=0.655584 -> initscore=0.643675\n",
      "[LightGBM] [Info] Start training from score 0.643675\n",
      "\n",
      "\n",
      "|    | Metric          |   LogisticRegression |     SVC |   RandomForestClassifier |   XGBClassifier |   LGBMClassifier |\n",
      "|---:|:----------------|---------------------:|--------:|-------------------------:|----------------:|-----------------:|\n",
      "|  0 | Total accuracy  |            0.78      | 0.75    |                  0.87    |        0.87     |          0.87    |\n",
      "|  1 | Macro precision |            0.77      | 0.77    |                  0.87    |        0.87     |          0.86    |\n",
      "|  2 | Macro recall    |            0.74      | 0.68    |                  0.85    |        0.85     |          0.84    |\n",
      "|  3 | Macro F1        |            0.75      | 0.69    |                  0.86    |        0.86     |          0.85    |\n",
      "|  4 | Time Consumed   |            0.0741711 | 7.25519 |                  1.02777 |        0.158948 |          0.42925 |\n"
     ]
    }
   ],
   "source": [
    "df_class =  read_csv(\"log_reg_df_clean.csv\")\n",
    "df_class_target = \"booking_status\"\n",
    "classif = Benchmarking(df_class, df_class_target, mode=\"classification\")\n",
    "classif.benchmark()"
   ]
  },
  {
   "cell_type": "code",
   "execution_count": null,
   "metadata": {},
   "outputs": [],
   "source": []
  }
 ],
 "metadata": {
  "kernelspec": {
   "display_name": ".venv",
   "language": "python",
   "name": "python3"
  },
  "language_info": {
   "codemirror_mode": {
    "name": "ipython",
    "version": 3
   },
   "file_extension": ".py",
   "mimetype": "text/x-python",
   "name": "python",
   "nbconvert_exporter": "python",
   "pygments_lexer": "ipython3",
   "version": "3.10.16"
  }
 },
 "nbformat": 4,
 "nbformat_minor": 2
}
