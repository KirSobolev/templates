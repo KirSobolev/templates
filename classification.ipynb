{
 "cells": [
  {
   "cell_type": "code",
   "execution_count": null,
   "metadata": {},
   "outputs": [],
   "source": [
    "import pandas as pd\n",
    "import numpy as np\n",
    "import matplotlib.pyplot as plt\n",
    "import seaborn as sns\n",
    "\n",
    "from sklearn.model_selection import train_test_split\n",
    "from sklearn.linear_model import LogisticRegression\n",
    "from sklearn import metrics\n",
    "from sklearn.metrics import classification_report\n",
    "from sklearn.metrics import confusion_matrix\n",
    "from sklearn.metrics import accuracy_score\n",
    "from sklearn.metrics import roc_auc_score\n",
    "from sklearn import metrics, svm\n",
    "from sklearn.pipeline import make_pipeline\n",
    "from sklearn.calibration import CalibratedClassifierCV\n",
    "from sklearn.preprocessing import MinMaxScaler, StandardScaler\n",
    "from sklearn.ensemble import RandomForestClassifier\n",
    "from sklearn.neighbors import KNeighborsClassifier\n",
    "from sklearn import preprocessing\n",
    "from xgboost import XGBClassifier\n"
   ]
  },
  {
   "cell_type": "markdown",
   "metadata": {},
   "source": [
    "<h1>Configuration</h1>"
   ]
  },
  {
   "cell_type": "code",
   "execution_count": null,
   "metadata": {},
   "outputs": [],
   "source": [
    "random_state = 42\n",
    "path_to_dataset = \"\"\n",
    "index_col = \"\"\n",
    "target_variable = \"\"\n",
    "\n",
    "# Test/train split size\n",
    "test_size = 0.3\n",
    "\n",
    "# KNN max iterations \n",
    "# adjust this to 50 or even 150 if you have lots of data rows\n",
    "max_iterations = 20"
   ]
  },
  {
   "cell_type": "markdown",
   "metadata": {},
   "source": [
    "<h1>Dataset loading</h1>"
   ]
  },
  {
   "cell_type": "code",
   "execution_count": null,
   "metadata": {},
   "outputs": [],
   "source": [
    "# Loads dataset from file\n",
    "# Provide index_col in order to avoid spawning of index column \"Unnamed: 0\"\n",
    "df = pd.read_csv(path_to_dataset, index_col=index_col)\n",
    "df = df.drop(\"Country\", axis=1)\n",
    "# initialize DF for saving metrics\n",
    "metrics_df = pd.DataFrame({\n",
    "    'Metric': ['Average accuracy']})\n",
    "df.head()"
   ]
  },
  {
   "cell_type": "markdown",
   "metadata": {},
   "source": [
    "<h1>Split the dataset</h1>"
   ]
  },
  {
   "cell_type": "code",
   "execution_count": null,
   "metadata": {},
   "outputs": [],
   "source": [
    "# First, split to X (data, all features except target variable) and y (only target variable)\n",
    "X = df.drop([target_variable], axis=1)\n",
    "y = df[target_variable]\n",
    "\n",
    "label_encoder = preprocessing.LabelEncoder()\n",
    "y = label_encoder.fit_transform(y)\n",
    " \n",
    "# Then split to train and test data\n",
    "X_train, X_test, y_train, y_test = train_test_split(X, y, test_size=test_size, random_state=random_state)\n"
   ]
  },
  {
   "cell_type": "code",
   "execution_count": null,
   "metadata": {},
   "outputs": [],
   "source": [
    "# initialize the scaler and process X-values\n",
    "from sklearn.preprocessing import StandardScaler\n",
    "sc = StandardScaler()\n",
    "X_train = sc.fit_transform(X_train)\n",
    "X_test = sc.transform(X_test)"
   ]
  },
  {
   "cell_type": "markdown",
   "metadata": {},
   "source": [
    "<h1>Models</h1>\n",
    "\n",
    "<table>\n",
    "    <tr>\n",
    "        <th>Algorithm</th>\n",
    "        <th>Pros</th>\n",
    "        <th>Cons</th>\n",
    "        <th>Data requirements</th>\n",
    "    </tr>\n",
    "    <tr>\n",
    "        <th>Linear regression</th>\n",
    "        <th>Simple and easy to interpret</th>\n",
    "        <th>Sensitive to outliers</th>\n",
    "        <th>• Requires linear relationship between variables\n",
    "            • Independent data points\n",
    "            • Normal distribution\n",
    "            • Constant variance between data and\n",
    "            predictions\n",
    "        </th>\n",
    "    </tr>\n",
    "    <tr>\n",
    "        <th>Support Vector Machines (SVM)</th>\n",
    "        <th>Effective in high-dimensional spaces (high number of columns)</th>\n",
    "        <th>• Can be slow and memory-intensive for large datasets (amount of rows)\n",
    "        • Computationally intensive\n",
    "        • Optimization can be tedious</th>\n",
    "        <th>Data scaling required</th>\n",
    "    </tr>\n",
    "    <tr>\n",
    "        <th>Random forests</th>\n",
    "        <th>Handles non-linear relationships well</th>\n",
    "        <th>• Can overfit with noisy and overlapping data\n",
    "            • Can be slow for real-time prediction</th>\n",
    "        <th>Less preprocessing, handles missing values well</th>\n",
    "    </tr>\n",
    "    <tr>\n",
    "        <th>KNN</th>\n",
    "        <th>Simple and easy to understand</th>\n",
    "        <th>• Computationally expensive for large datasets\n",
    "            • Sensitive to irrelevant variables\n",
    "            • Prediction can be slow for large datasets</th>\n",
    "        <th>Data balance is important (equal representation for each output class)</th>\n",
    "    </tr>\n",
    "</table>"
   ]
  },
  {
   "cell_type": "markdown",
   "metadata": {},
   "source": [
    "<h3>Logical Regression</h3>"
   ]
  },
  {
   "cell_type": "code",
   "execution_count": null,
   "metadata": {},
   "outputs": [],
   "source": [
    "logmodel = LogisticRegression()\n",
    "logmodel.fit(X_train, y_train)\n",
    "predictions = logmodel.predict(X_test)\n"
   ]
  },
  {
   "cell_type": "code",
   "execution_count": null,
   "metadata": {},
   "outputs": [],
   "source": [
    "# print the classification report based on true values and predictions\n",
    "print(classification_report(y_test, predictions, target_names=df[\"World Region\"].unique()))\n",
    "\n",
    "# get overall accuracy of the model and print it\n",
    "acc = accuracy_score(y_test, predictions)\n",
    "metrics_df[\"LogReg\"] = acc\n",
    "print(\"\\nModel overall accuracy: {:.2f}%\".format(acc * 100))"
   ]
  },
  {
   "cell_type": "code",
   "execution_count": null,
   "metadata": {},
   "outputs": [],
   "source": [
    "sns.heatmap(confusion_matrix(y_test, predictions), annot=True, fmt=\"g\")"
   ]
  },
  {
   "cell_type": "markdown",
   "metadata": {},
   "source": [
    "<h3>SVM</h3>"
   ]
  },
  {
   "cell_type": "code",
   "execution_count": null,
   "metadata": {},
   "outputs": [],
   "source": [
    "model = make_pipeline(StandardScaler(), svm.SVC(probability=True))\n",
    "model.fit(X_train, y_train)\n",
    "predictions = model.predict(X_test)\n"
   ]
  },
  {
   "cell_type": "code",
   "execution_count": null,
   "metadata": {},
   "outputs": [],
   "source": [
    "# as usual\n",
    "# print the classification report based on true values and predictions\n",
    "print(classification_report(y_test, predictions, target_names=df[\"World Region\"].unique()))\n",
    "# get overall accuracy of the model and print it\n",
    "acc = accuracy_score(y_test, predictions)\n",
    "metrics_df[\"SVC\"] = acc\n",
    "print(\"\\nModel overall accuracy: {:.2f}%\".format(acc * 100))\n",
    "print(\"\\n\")"
   ]
  },
  {
   "cell_type": "code",
   "execution_count": null,
   "metadata": {},
   "outputs": [],
   "source": [
    "sns.heatmap(confusion_matrix(y_test, predictions), annot=True, fmt=\"g\")"
   ]
  },
  {
   "cell_type": "markdown",
   "metadata": {},
   "source": [
    "<h3>Random forests</h3>\n"
   ]
  },
  {
   "cell_type": "code",
   "execution_count": null,
   "metadata": {},
   "outputs": [],
   "source": [
    "model = make_pipeline(StandardScaler(), RandomForestClassifier())\n",
    "model.fit(X_train, y_train)\n",
    "predictions = model.predict(X_test)"
   ]
  },
  {
   "cell_type": "code",
   "execution_count": null,
   "metadata": {},
   "outputs": [],
   "source": [
    "# as usual\n",
    "# print the classification report based on true values and predictions\n",
    "print(classification_report(y_test, predictions, target_names=df[\"World Region\"].unique()))\n",
    "# get overall accuracy of the model and print it\n",
    "acc = accuracy_score(y_test, predictions)\n",
    "metrics_df[\"Random Forest\"] = acc\n",
    "print(\"\\nModel overall accuracy: {:.2f}%\".format(acc * 100))\n",
    "print(\"\\n\")\n"
   ]
  },
  {
   "cell_type": "code",
   "execution_count": null,
   "metadata": {},
   "outputs": [],
   "source": [
    "sns.heatmap(confusion_matrix(y_test, predictions), annot=True, fmt=\"g\")"
   ]
  },
  {
   "cell_type": "markdown",
   "metadata": {},
   "source": [
    "<h3>XGB<h3>"
   ]
  },
  {
   "cell_type": "code",
   "execution_count": null,
   "metadata": {},
   "outputs": [],
   "source": [
    "model = XGBClassifier()\n",
    "#Training the model on the training data\n",
    "model.fit(X_train, y_train)\n",
    "\n",
    "#Making predictions on the test set\n",
    "predictions = model.predict(X_test)\n",
    "\n"
   ]
  },
  {
   "cell_type": "code",
   "execution_count": null,
   "metadata": {},
   "outputs": [],
   "source": [
    "# as usual\n",
    "# print the classification report based on true values and predictions\n",
    "print(classification_report(y_test, predictions, target_names=df[\"World Region\"].unique()))\n",
    "# get overall accuracy of the model and print it\n",
    "acc = accuracy_score(y_test, predictions)\n",
    "metrics_df[\"XGB\"] = acc\n",
    "print(\"\\nModel overall accuracy: {:.2f}%\".format(acc * 100))\n",
    "print(\"\\n\")\n"
   ]
  },
  {
   "cell_type": "code",
   "execution_count": null,
   "metadata": {},
   "outputs": [],
   "source": [
    "sns.heatmap(confusion_matrix(y_test, predictions), annot=True, fmt=\"g\")"
   ]
  },
  {
   "cell_type": "markdown",
   "metadata": {},
   "source": [
    "<h3>KNN</h3>"
   ]
  },
  {
   "cell_type": "code",
   "execution_count": null,
   "metadata": {},
   "outputs": [],
   "source": [
    "# list to save the error values in the loop\n",
    "error = []\n",
    "\n",
    "# the default metric in scikit-learn\n",
    "metric_selection = \"minkowski\"\n",
    "\n",
    "# Calculating error for K values between 1 and 40\n",
    "for i in range(1, max_iterations):\n",
    "\n",
    "     # try with current k-value, train the model and make a test prediction\n",
    "    knn = make_pipeline(StandardScaler(), KNeighborsClassifier(n_neighbors=i, metric=metric_selection))\n",
    "    knn.fit(X_train, y_train)\n",
    "    pred_i = knn.predict(X_test)\n",
    "\n",
    "    # save the error value for this k-value\n",
    "    error.append(np.mean(pred_i != y_test))\n",
    "    \n",
    "# plot all the k-values and their error values\n",
    "sns.lineplot(x=range(1, max_iterations), y=error, marker='o')\n",
    "plt.title('Error Rate K Value (choose k-value of lowest Mean Error)')\n",
    "plt.xlabel('K Value')\n",
    "plt.ylabel('Mean Error')\n",
    "\n",
    "# choose best k-value based on metrics\n",
    "# we have to add +1 to k-value, since argmin() returns an index\n",
    "# which starts from 0, but k-values start from 1\n",
    "print(\"Based on iterations, best k-value is this:\")\n",
    "k_value = np.argmin(error) + 1\n",
    "print(k_value)\n",
    "\n",
    "# build the model with the optimal values\n",
    "model = make_pipeline(StandardScaler(), KNeighborsClassifier(n_neighbors=k_value, metric=metric_selection))\n",
    "model.fit(X_train, y_train)\n",
    "predictions = model.predict(X_test)"
   ]
  },
  {
   "cell_type": "code",
   "execution_count": null,
   "metadata": {},
   "outputs": [],
   "source": [
    "# as usual\n",
    "# print the classification report based on true values and predictions\n",
    "print(classification_report(y_test, predictions, target_names=df[\"World Region\"].unique()))\n",
    "# get overall accuracy of the model and print it\n",
    "acc = accuracy_score(y_test, predictions)\n",
    "metrics_df[\"KNN\"] = acc\n",
    "print(\"\\nModel overall accuracy: {:.2f}%\".format(acc * 100))\n",
    "print(\"\\n\")"
   ]
  },
  {
   "cell_type": "code",
   "execution_count": null,
   "metadata": {},
   "outputs": [],
   "source": [
    "sns.heatmap(confusion_matrix(y_test, predictions), annot=True, fmt=\"g\")"
   ]
  },
  {
   "cell_type": "code",
   "execution_count": null,
   "metadata": {},
   "outputs": [],
   "source": [
    "metrics_df"
   ]
  }
 ],
 "metadata": {
  "kernelspec": {
   "display_name": ".venv",
   "language": "python",
   "name": "python3"
  },
  "language_info": {
   "codemirror_mode": {
    "name": "ipython",
    "version": 3
   },
   "file_extension": ".py",
   "mimetype": "text/x-python",
   "name": "python",
   "nbconvert_exporter": "python",
   "pygments_lexer": "ipython3",
   "version": "3.10.13"
  }
 },
 "nbformat": 4,
 "nbformat_minor": 2
}
