{
 "cells": [
  {
   "cell_type": "code",
   "execution_count": 38,
   "metadata": {},
   "outputs": [],
   "source": [
    "import pandas as pd\n",
    "import numpy as np\n",
    "import matplotlib.pyplot as plt\n",
    "import seaborn as sns\n",
    "\n",
    "from sklearn.model_selection import train_test_split\n",
    "from sklearn.linear_model import LinearRegression\n",
    "from sklearn import metrics, svm\n",
    "from sklearn.preprocessing import MinMaxScaler, StandardScaler\n",
    "from sklearn.pipeline import make_pipeline\n",
    "from sklearn.ensemble import RandomForestRegressor\n",
    "from sklearn.neighbors import KNeighborsRegressor\n",
    "\n",
    "from xgboost import XGBRegressor"
   ]
  },
  {
   "cell_type": "markdown",
   "metadata": {},
   "source": [
    "<h1>Configuration</h1>"
   ]
  },
  {
   "cell_type": "code",
   "execution_count": 39,
   "metadata": {},
   "outputs": [],
   "source": [
    "random_state = 42\n",
    "path_to_dataset = \"winters_merged.csv\"\n",
    "index_col = \"ts\"\n",
    "target_variable = \"Friction\"\n",
    "# Test/train split size\n",
    "test_size = 0.3\n",
    "\n",
    "# KNN max iterations \n",
    "# adjust this to 50 or even 150 if you have lots of data rows\n",
    "max_iterations = 20"
   ]
  },
  {
   "cell_type": "markdown",
   "metadata": {},
   "source": [
    "<h1>Dataset loading</h1>"
   ]
  },
  {
   "cell_type": "code",
   "execution_count": 40,
   "metadata": {},
   "outputs": [
    {
     "data": {
      "text/html": [
       "<div>\n",
       "<style scoped>\n",
       "    .dataframe tbody tr th:only-of-type {\n",
       "        vertical-align: middle;\n",
       "    }\n",
       "\n",
       "    .dataframe tbody tr th {\n",
       "        vertical-align: top;\n",
       "    }\n",
       "\n",
       "    .dataframe thead th {\n",
       "        text-align: right;\n",
       "    }\n",
       "</style>\n",
       "<table border=\"1\" class=\"dataframe\">\n",
       "  <thead>\n",
       "    <tr style=\"text-align: right;\">\n",
       "      <th></th>\n",
       "      <th>airTemp</th>\n",
       "      <th>humidity</th>\n",
       "      <th>dewpoint</th>\n",
       "      <th>precipitation</th>\n",
       "      <th>Friction</th>\n",
       "      <th>Road_Surface_Temperature</th>\n",
       "      <th>Water_Film_Surface_mm</th>\n",
       "    </tr>\n",
       "    <tr>\n",
       "      <th>ts</th>\n",
       "      <th></th>\n",
       "      <th></th>\n",
       "      <th></th>\n",
       "      <th></th>\n",
       "      <th></th>\n",
       "      <th></th>\n",
       "      <th></th>\n",
       "    </tr>\n",
       "  </thead>\n",
       "  <tbody>\n",
       "    <tr>\n",
       "      <th>2021-11-01 00:00:00</th>\n",
       "      <td>8.8</td>\n",
       "      <td>94.0</td>\n",
       "      <td>7.9</td>\n",
       "      <td>0.0</td>\n",
       "      <td>0.82</td>\n",
       "      <td>5.082435</td>\n",
       "      <td>0.0</td>\n",
       "    </tr>\n",
       "    <tr>\n",
       "      <th>2021-11-01 00:10:00</th>\n",
       "      <td>9.1</td>\n",
       "      <td>91.0</td>\n",
       "      <td>7.7</td>\n",
       "      <td>0.0</td>\n",
       "      <td>0.82</td>\n",
       "      <td>5.035252</td>\n",
       "      <td>0.0</td>\n",
       "    </tr>\n",
       "    <tr>\n",
       "      <th>2021-11-01 00:20:00</th>\n",
       "      <td>9.1</td>\n",
       "      <td>90.0</td>\n",
       "      <td>7.5</td>\n",
       "      <td>0.0</td>\n",
       "      <td>0.82</td>\n",
       "      <td>4.951386</td>\n",
       "      <td>0.0</td>\n",
       "    </tr>\n",
       "    <tr>\n",
       "      <th>2021-11-01 00:30:00</th>\n",
       "      <td>9.2</td>\n",
       "      <td>88.0</td>\n",
       "      <td>7.3</td>\n",
       "      <td>0.0</td>\n",
       "      <td>0.82</td>\n",
       "      <td>5.077870</td>\n",
       "      <td>0.0</td>\n",
       "    </tr>\n",
       "    <tr>\n",
       "      <th>2021-11-01 00:40:00</th>\n",
       "      <td>9.2</td>\n",
       "      <td>86.0</td>\n",
       "      <td>7.0</td>\n",
       "      <td>0.0</td>\n",
       "      <td>0.82</td>\n",
       "      <td>4.919721</td>\n",
       "      <td>0.0</td>\n",
       "    </tr>\n",
       "  </tbody>\n",
       "</table>\n",
       "</div>"
      ],
      "text/plain": [
       "                     airTemp  ...  Water_Film_Surface_mm\n",
       "ts                            ...                       \n",
       "2021-11-01 00:00:00      8.8  ...                    0.0\n",
       "2021-11-01 00:10:00      9.1  ...                    0.0\n",
       "2021-11-01 00:20:00      9.1  ...                    0.0\n",
       "2021-11-01 00:30:00      9.2  ...                    0.0\n",
       "2021-11-01 00:40:00      9.2  ...                    0.0\n",
       "\n",
       "[5 rows x 7 columns]"
      ]
     },
     "execution_count": 40,
     "metadata": {},
     "output_type": "execute_result"
    }
   ],
   "source": [
    "# Loads dataset from file\n",
    "# Provide index_col in order to avoid spawning of index column \"Unnamed: 0\"\n",
    "df = pd.read_csv(path_to_dataset, index_col=index_col)\n",
    "\n",
    "# initialize DF for saving metrics\n",
    "metrics_df = pd.DataFrame({\n",
    "    'Metric': ['Mean Squared Error', 'Root Mean Squared Error', 'Mean Absolute Error', 'R-squared']})\n",
    "df.head()"
   ]
  },
  {
   "cell_type": "markdown",
   "metadata": {},
   "source": [
    "<h1>Split the dataset</h1>"
   ]
  },
  {
   "cell_type": "code",
   "execution_count": 41,
   "metadata": {},
   "outputs": [],
   "source": [
    "# First, split to X (data, all features except target variable) and y (only target variable)\n",
    "X = df.drop([target_variable], axis=1)\n",
    "y = df[target_variable]\n",
    "# Then split to train and test data\n",
    "X_train, X_test, y_train, y_test = train_test_split(X, y, test_size=test_size, random_state=random_state)\n"
   ]
  },
  {
   "cell_type": "markdown",
   "metadata": {},
   "source": [
    "<h1>Models</h1>\n",
    "\n",
    "<table>\n",
    "    <tr>\n",
    "        <th>Algorithm</th>\n",
    "        <th>Pros</th>\n",
    "        <th>Cons</th>\n",
    "        <th>Data requirements</th>\n",
    "    </tr>\n",
    "    <tr>\n",
    "        <th>Linear regression</th>\n",
    "        <th>Simple and easy to interpret</th>\n",
    "        <th>Sensitive to outliers</th>\n",
    "        <th>• Requires linear relationship between variables\n",
    "            • Independent data points\n",
    "            • Normal distribution\n",
    "            • Constant variance between data and\n",
    "            predictions\n",
    "        </th>\n",
    "    </tr>\n",
    "    <tr>\n",
    "        <th>Support Vector Machines (SVM)</th>\n",
    "        <th>Effective in high-dimensional spaces (high number of columns)</th>\n",
    "        <th>• Can be slow and memory-intensive for large datasets (amount of rows)\n",
    "        • Computationally intensive\n",
    "        • Optimization can be tedious</th>\n",
    "        <th>Data scaling required</th>\n",
    "    </tr>\n",
    "    <tr>\n",
    "        <th>Random forests</th>\n",
    "        <th>Handles non-linear relationships well</th>\n",
    "        <th>• Can overfit with noisy and overlapping data\n",
    "            • Can be slow for real-time prediction</th>\n",
    "        <th>Less preprocessing, handles missing values well</th>\n",
    "    </tr>\n",
    "    <tr>\n",
    "        <th>KNN</th>\n",
    "        <th>Simple and easy to understand</th>\n",
    "        <th>• Computationally expensive for large datasets\n",
    "            • Sensitive to irrelevant variables\n",
    "            • Prediction can be slow for large datasets</th>\n",
    "        <th>Data balance is important (equal representation for each output class)</th>\n",
    "    </tr>\n",
    "</table>"
   ]
  },
  {
   "cell_type": "markdown",
   "metadata": {},
   "source": [
    "<h3>Linear Regression</h3>"
   ]
  },
  {
   "cell_type": "code",
   "execution_count": 42,
   "metadata": {},
   "outputs": [],
   "source": [
    "lm = LinearRegression()\n",
    "lm.fit(X_train, y_train)\n",
    "predictions = lm.predict(X_test)"
   ]
  },
  {
   "cell_type": "code",
   "execution_count": 43,
   "metadata": {},
   "outputs": [
    {
     "data": {
      "text/html": [
       "<div>\n",
       "<style scoped>\n",
       "    .dataframe tbody tr th:only-of-type {\n",
       "        vertical-align: middle;\n",
       "    }\n",
       "\n",
       "    .dataframe tbody tr th {\n",
       "        vertical-align: top;\n",
       "    }\n",
       "\n",
       "    .dataframe thead th {\n",
       "        text-align: right;\n",
       "    }\n",
       "</style>\n",
       "<table border=\"1\" class=\"dataframe\">\n",
       "  <thead>\n",
       "    <tr style=\"text-align: right;\">\n",
       "      <th></th>\n",
       "      <th>Metric</th>\n",
       "      <th>LinearReg</th>\n",
       "    </tr>\n",
       "  </thead>\n",
       "  <tbody>\n",
       "    <tr>\n",
       "      <th>0</th>\n",
       "      <td>Mean Squared Error</td>\n",
       "      <td>0.02</td>\n",
       "    </tr>\n",
       "    <tr>\n",
       "      <th>1</th>\n",
       "      <td>Root Mean Squared Error</td>\n",
       "      <td>0.14</td>\n",
       "    </tr>\n",
       "    <tr>\n",
       "      <th>2</th>\n",
       "      <td>Mean Absolute Error</td>\n",
       "      <td>0.11</td>\n",
       "    </tr>\n",
       "    <tr>\n",
       "      <th>3</th>\n",
       "      <td>R-squared</td>\n",
       "      <td>0.32</td>\n",
       "    </tr>\n",
       "  </tbody>\n",
       "</table>\n",
       "</div>"
      ],
      "text/plain": [
       "                    Metric  LinearReg\n",
       "0       Mean Squared Error       0.02\n",
       "1  Root Mean Squared Error       0.14\n",
       "2      Mean Absolute Error       0.11\n",
       "3                R-squared       0.32"
      ]
     },
     "execution_count": 43,
     "metadata": {},
     "output_type": "execute_result"
    }
   ],
   "source": [
    "# MAE - Mean average error\n",
    "mae = round(metrics.mean_absolute_error(y_test, predictions), 2)\n",
    "# MSE - Mean square error\n",
    "mse = round(metrics.mean_squared_error(y_test, predictions), 2)\n",
    "# RMSE - Root mean square error\n",
    "rmse = round(np.sqrt(metrics.mean_squared_error(y_test, predictions)), 2)\n",
    "# R-squared. 0 = the model descibes the dataset poorly\n",
    "# 1 = model describes the dataset perfectly\n",
    "r2 = round(metrics.r2_score(y_test, predictions), 2)\n",
    "\n",
    "metrics_df[\"LinearReg\"] = [mse, rmse, mae, r2]\n",
    "metrics_df"
   ]
  },
  {
   "cell_type": "markdown",
   "metadata": {},
   "source": [
    "<h3>SVM</h3>"
   ]
  },
  {
   "cell_type": "code",
   "execution_count": 44,
   "metadata": {},
   "outputs": [],
   "source": [
    "df_scaled = df.copy()"
   ]
  },
  {
   "cell_type": "code",
   "execution_count": 45,
   "metadata": {},
   "outputs": [],
   "source": [
    "# initalize scaler\n",
    "scalerY = MinMaxScaler()\n",
    "\n",
    "# save min/max -values of target value\n",
    "# for bettermetrics later\n",
    "min_y = df_scaled[target_variable].min()\n",
    "max_y = df_scaled[target_variable].max()\n",
    "\n",
    "# scale y-variable\n",
    "num_vars = [target_variable]\n",
    "df_scaled[num_vars] = scalerY.fit_transform(df_scaled[num_vars])"
   ]
  },
  {
   "cell_type": "code",
   "execution_count": 46,
   "metadata": {},
   "outputs": [],
   "source": [
    "# First, split to X (data, all features except target variable) and y (only target variable)\n",
    "X_scaled = df_scaled.drop([target_variable], axis=1)\n",
    "y_scaled = df_scaled[target_variable]\n",
    "# Then split to train and test data\n",
    "X_train_scaled, X_test_scaled, y_train_scaled, y_test_scaled = train_test_split(X_scaled, y_scaled, test_size=test_size, random_state=random_state)\n"
   ]
  },
  {
   "cell_type": "code",
   "execution_count": 47,
   "metadata": {},
   "outputs": [],
   "source": [
    "# connect standard scaler for X-values\n",
    "# you can also use MinMaxScaler() if performance is not good enough\n",
    "model = make_pipeline(StandardScaler(), svm.SVR())\n",
    "model.fit(X_train_scaled, y_train_scaled)\n",
    "\n",
    "predictions = model.predict(X_test_scaled)"
   ]
  },
  {
   "cell_type": "code",
   "execution_count": 48,
   "metadata": {},
   "outputs": [
    {
     "data": {
      "text/html": [
       "<div>\n",
       "<style scoped>\n",
       "    .dataframe tbody tr th:only-of-type {\n",
       "        vertical-align: middle;\n",
       "    }\n",
       "\n",
       "    .dataframe tbody tr th {\n",
       "        vertical-align: top;\n",
       "    }\n",
       "\n",
       "    .dataframe thead th {\n",
       "        text-align: right;\n",
       "    }\n",
       "</style>\n",
       "<table border=\"1\" class=\"dataframe\">\n",
       "  <thead>\n",
       "    <tr style=\"text-align: right;\">\n",
       "      <th></th>\n",
       "      <th>Metric</th>\n",
       "      <th>LinearReg</th>\n",
       "      <th>LinearSVR</th>\n",
       "    </tr>\n",
       "  </thead>\n",
       "  <tbody>\n",
       "    <tr>\n",
       "      <th>0</th>\n",
       "      <td>Mean Squared Error</td>\n",
       "      <td>0.02</td>\n",
       "      <td>0.009</td>\n",
       "    </tr>\n",
       "    <tr>\n",
       "      <th>1</th>\n",
       "      <td>Root Mean Squared Error</td>\n",
       "      <td>0.14</td>\n",
       "      <td>0.090</td>\n",
       "    </tr>\n",
       "    <tr>\n",
       "      <th>2</th>\n",
       "      <td>Mean Absolute Error</td>\n",
       "      <td>0.11</td>\n",
       "      <td>0.071</td>\n",
       "    </tr>\n",
       "    <tr>\n",
       "      <th>3</th>\n",
       "      <td>R-squared</td>\n",
       "      <td>0.32</td>\n",
       "      <td>0.845</td>\n",
       "    </tr>\n",
       "  </tbody>\n",
       "</table>\n",
       "</div>"
      ],
      "text/plain": [
       "                    Metric  LinearReg  LinearSVR\n",
       "0       Mean Squared Error       0.02      0.009\n",
       "1  Root Mean Squared Error       0.14      0.090\n",
       "2      Mean Absolute Error       0.11      0.071\n",
       "3                R-squared       0.32      0.845"
      ]
     },
     "execution_count": 48,
     "metadata": {},
     "output_type": "execute_result"
    }
   ],
   "source": [
    "# MAE - Mean average error\n",
    "mae = round(metrics.mean_absolute_error(y_test_scaled, predictions), 3)\n",
    "# MSE - Mean square error\n",
    "mse = round(metrics.mean_squared_error(y_test_scaled, predictions), 3)\n",
    "# RMSE - Root mean square error\n",
    "rmse = round(metrics.root_mean_squared_error(y_test_scaled, predictions), 2)\n",
    "\n",
    "# R-squared. 0 = the model descibes the dataset poorly\n",
    "# 1 = model describes the dataset perfectly\n",
    "r2 = round(metrics.r2_score(y_test_scaled, predictions), 3)\n",
    "\n",
    "metrics_df['LinearSVR'] = [mse, rmse, mae, r2]\n",
    "metrics_df"
   ]
  },
  {
   "cell_type": "markdown",
   "metadata": {},
   "source": [
    "<h3>Random forests</h3>\n"
   ]
  },
  {
   "cell_type": "code",
   "execution_count": 49,
   "metadata": {},
   "outputs": [],
   "source": [
    "model = make_pipeline(StandardScaler(), RandomForestRegressor())\n",
    "model.fit(X_train, y_train)\n",
    "predictions = model.predict(X_test)"
   ]
  },
  {
   "cell_type": "code",
   "execution_count": 50,
   "metadata": {},
   "outputs": [
    {
     "data": {
      "text/html": [
       "<div>\n",
       "<style scoped>\n",
       "    .dataframe tbody tr th:only-of-type {\n",
       "        vertical-align: middle;\n",
       "    }\n",
       "\n",
       "    .dataframe tbody tr th {\n",
       "        vertical-align: top;\n",
       "    }\n",
       "\n",
       "    .dataframe thead th {\n",
       "        text-align: right;\n",
       "    }\n",
       "</style>\n",
       "<table border=\"1\" class=\"dataframe\">\n",
       "  <thead>\n",
       "    <tr style=\"text-align: right;\">\n",
       "      <th></th>\n",
       "      <th>Metric</th>\n",
       "      <th>LinearReg</th>\n",
       "      <th>LinearSVR</th>\n",
       "      <th>Random forest</th>\n",
       "    </tr>\n",
       "  </thead>\n",
       "  <tbody>\n",
       "    <tr>\n",
       "      <th>0</th>\n",
       "      <td>Mean Squared Error</td>\n",
       "      <td>0.02</td>\n",
       "      <td>0.009</td>\n",
       "      <td>0.00</td>\n",
       "    </tr>\n",
       "    <tr>\n",
       "      <th>1</th>\n",
       "      <td>Root Mean Squared Error</td>\n",
       "      <td>0.14</td>\n",
       "      <td>0.090</td>\n",
       "      <td>0.04</td>\n",
       "    </tr>\n",
       "    <tr>\n",
       "      <th>2</th>\n",
       "      <td>Mean Absolute Error</td>\n",
       "      <td>0.11</td>\n",
       "      <td>0.071</td>\n",
       "      <td>0.01</td>\n",
       "    </tr>\n",
       "    <tr>\n",
       "      <th>3</th>\n",
       "      <td>R-squared</td>\n",
       "      <td>0.32</td>\n",
       "      <td>0.845</td>\n",
       "      <td>0.96</td>\n",
       "    </tr>\n",
       "  </tbody>\n",
       "</table>\n",
       "</div>"
      ],
      "text/plain": [
       "                    Metric  LinearReg  LinearSVR  Random forest\n",
       "0       Mean Squared Error       0.02      0.009           0.00\n",
       "1  Root Mean Squared Error       0.14      0.090           0.04\n",
       "2      Mean Absolute Error       0.11      0.071           0.01\n",
       "3                R-squared       0.32      0.845           0.96"
      ]
     },
     "execution_count": 50,
     "metadata": {},
     "output_type": "execute_result"
    }
   ],
   "source": [
    "mse = round(metrics.mean_squared_error(y_test, predictions), 2)\n",
    "rmse = round(metrics.root_mean_squared_error(y_test, predictions), 2)\n",
    "mae = round(metrics.mean_absolute_error(y_test, predictions), 2)\n",
    "r2 = round(metrics.r2_score(y_test, predictions), 2)\n",
    "\n",
    "metrics_df[\"Random forest\"] = [mse, rmse, mae, r2]\n",
    "metrics_df"
   ]
  },
  {
   "cell_type": "markdown",
   "metadata": {},
   "source": [
    "<h3>XGB<h3>"
   ]
  },
  {
   "cell_type": "code",
   "execution_count": 51,
   "metadata": {},
   "outputs": [],
   "source": [
    "model = XGBRegressor(random_state=random_state)\n",
    "model.fit(X_train, y_train)\n",
    "predictions = model.predict(X_test)"
   ]
  },
  {
   "cell_type": "code",
   "execution_count": 52,
   "metadata": {},
   "outputs": [
    {
     "data": {
      "text/html": [
       "<div>\n",
       "<style scoped>\n",
       "    .dataframe tbody tr th:only-of-type {\n",
       "        vertical-align: middle;\n",
       "    }\n",
       "\n",
       "    .dataframe tbody tr th {\n",
       "        vertical-align: top;\n",
       "    }\n",
       "\n",
       "    .dataframe thead th {\n",
       "        text-align: right;\n",
       "    }\n",
       "</style>\n",
       "<table border=\"1\" class=\"dataframe\">\n",
       "  <thead>\n",
       "    <tr style=\"text-align: right;\">\n",
       "      <th></th>\n",
       "      <th>Metric</th>\n",
       "      <th>LinearReg</th>\n",
       "      <th>LinearSVR</th>\n",
       "      <th>Random forest</th>\n",
       "      <th>XGB</th>\n",
       "    </tr>\n",
       "  </thead>\n",
       "  <tbody>\n",
       "    <tr>\n",
       "      <th>0</th>\n",
       "      <td>Mean Squared Error</td>\n",
       "      <td>0.02</td>\n",
       "      <td>0.009</td>\n",
       "      <td>0.00</td>\n",
       "      <td>0.00</td>\n",
       "    </tr>\n",
       "    <tr>\n",
       "      <th>1</th>\n",
       "      <td>Root Mean Squared Error</td>\n",
       "      <td>0.14</td>\n",
       "      <td>0.090</td>\n",
       "      <td>0.04</td>\n",
       "      <td>0.04</td>\n",
       "    </tr>\n",
       "    <tr>\n",
       "      <th>2</th>\n",
       "      <td>Mean Absolute Error</td>\n",
       "      <td>0.11</td>\n",
       "      <td>0.071</td>\n",
       "      <td>0.01</td>\n",
       "      <td>0.02</td>\n",
       "    </tr>\n",
       "    <tr>\n",
       "      <th>3</th>\n",
       "      <td>R-squared</td>\n",
       "      <td>0.32</td>\n",
       "      <td>0.845</td>\n",
       "      <td>0.96</td>\n",
       "      <td>0.94</td>\n",
       "    </tr>\n",
       "  </tbody>\n",
       "</table>\n",
       "</div>"
      ],
      "text/plain": [
       "                    Metric  LinearReg  LinearSVR  Random forest   XGB\n",
       "0       Mean Squared Error       0.02      0.009           0.00  0.00\n",
       "1  Root Mean Squared Error       0.14      0.090           0.04  0.04\n",
       "2      Mean Absolute Error       0.11      0.071           0.01  0.02\n",
       "3                R-squared       0.32      0.845           0.96  0.94"
      ]
     },
     "execution_count": 52,
     "metadata": {},
     "output_type": "execute_result"
    }
   ],
   "source": [
    "mse = round(metrics.mean_squared_error(y_test, predictions), 2)\n",
    "rmse = round(metrics.root_mean_squared_error(y_test, predictions), 2)\n",
    "mae = round(metrics.mean_absolute_error(y_test, predictions), 2)\n",
    "r2 = round(metrics.r2_score(y_test, predictions), 2)\n",
    "\n",
    "metrics_df[\"XGB\"] = [mse, rmse, mae, r2]\n",
    "metrics_df"
   ]
  },
  {
   "cell_type": "markdown",
   "metadata": {},
   "source": [
    "<h3>KNN</h3>"
   ]
  },
  {
   "cell_type": "code",
   "execution_count": 53,
   "metadata": {},
   "outputs": [
    {
     "name": "stdout",
     "output_type": "stream",
     "text": [
      "Based on iterations, best k-value is this:\n",
      "3\n"
     ]
    },
    {
     "data": {
      "image/png": "[encoded data removed]",
      "text/plain": [
       "<Figure size 640x480 with 1 Axes>"
      ]
     },
     "metadata": {},
     "output_type": "display_data"
    }
   ],
   "source": [
    "# list to save the error values in the loop\n",
    "error = []\n",
    "\n",
    "# the default metric in scikit-learn\n",
    "metric_selection = \"minkowski\"\n",
    "\n",
    "# Calculating error for K values between 1 and 40\n",
    "for i in range(1, max_iterations):\n",
    "\n",
    "    # try with current k-value, train the model and make a test prediction\n",
    "    knn = make_pipeline(StandardScaler(), KNeighborsRegressor(n_neighbors=i, metric=metric_selection))\n",
    "    knn.fit(X_train, y_train)\n",
    "    pred_i = knn.predict(X_test)\n",
    "    \n",
    "    # save the error value for this k-value\n",
    "    error.append(np.sqrt(metrics.mean_squared_error(y_test, pred_i)))\n",
    "    \n",
    "# plot all the k-values and their error values\n",
    "sns.lineplot(x=range(1, max_iterations), y=error, marker='o')\n",
    "plt.title('Error Rate K Value (choose k-value of lowest RMSE)')\n",
    "plt.xlabel('K Value')\n",
    "plt.ylabel('RMSE')\n",
    "\n",
    "# choose best k-value based on metrics\n",
    "# we have to add +1 to k-value, since argmin() returns an index\n",
    "# which starts from 0, but k-values start from 1\n",
    "print(\"Based on iterations, best k-value is this:\")\n",
    "k_value = np.argmin(error) + 1\n",
    "print(k_value)\n",
    "\n",
    "# build the model with the optimal values\n",
    "model = make_pipeline(StandardScaler(), KNeighborsRegressor(n_neighbors=k_value, metric=metric_selection))\n",
    "model.fit(X_train, y_train)\n",
    "predictions = model.predict(X_test)"
   ]
  },
  {
   "cell_type": "code",
   "execution_count": 54,
   "metadata": {},
   "outputs": [
    {
     "data": {
      "text/html": [
       "<div>\n",
       "<style scoped>\n",
       "    .dataframe tbody tr th:only-of-type {\n",
       "        vertical-align: middle;\n",
       "    }\n",
       "\n",
       "    .dataframe tbody tr th {\n",
       "        vertical-align: top;\n",
       "    }\n",
       "\n",
       "    .dataframe thead th {\n",
       "        text-align: right;\n",
       "    }\n",
       "</style>\n",
       "<table border=\"1\" class=\"dataframe\">\n",
       "  <thead>\n",
       "    <tr style=\"text-align: right;\">\n",
       "      <th></th>\n",
       "      <th>Metric</th>\n",
       "      <th>LinearReg</th>\n",
       "      <th>LinearSVR</th>\n",
       "      <th>Random forest</th>\n",
       "      <th>XGB</th>\n",
       "      <th>KNN</th>\n",
       "    </tr>\n",
       "  </thead>\n",
       "  <tbody>\n",
       "    <tr>\n",
       "      <th>0</th>\n",
       "      <td>Mean Squared Error</td>\n",
       "      <td>0.02</td>\n",
       "      <td>0.009</td>\n",
       "      <td>0.00</td>\n",
       "      <td>0.00</td>\n",
       "      <td>0.00</td>\n",
       "    </tr>\n",
       "    <tr>\n",
       "      <th>1</th>\n",
       "      <td>Root Mean Squared Error</td>\n",
       "      <td>0.14</td>\n",
       "      <td>0.090</td>\n",
       "      <td>0.04</td>\n",
       "      <td>0.04</td>\n",
       "      <td>0.05</td>\n",
       "    </tr>\n",
       "    <tr>\n",
       "      <th>2</th>\n",
       "      <td>Mean Absolute Error</td>\n",
       "      <td>0.11</td>\n",
       "      <td>0.071</td>\n",
       "      <td>0.01</td>\n",
       "      <td>0.02</td>\n",
       "      <td>0.02</td>\n",
       "    </tr>\n",
       "    <tr>\n",
       "      <th>3</th>\n",
       "      <td>R-squared</td>\n",
       "      <td>0.32</td>\n",
       "      <td>0.845</td>\n",
       "      <td>0.96</td>\n",
       "      <td>0.94</td>\n",
       "      <td>0.93</td>\n",
       "    </tr>\n",
       "  </tbody>\n",
       "</table>\n",
       "</div>"
      ],
      "text/plain": [
       "                    Metric  LinearReg  LinearSVR  Random forest   XGB   KNN\n",
       "0       Mean Squared Error       0.02      0.009           0.00  0.00  0.00\n",
       "1  Root Mean Squared Error       0.14      0.090           0.04  0.04  0.05\n",
       "2      Mean Absolute Error       0.11      0.071           0.01  0.02  0.02\n",
       "3                R-squared       0.32      0.845           0.96  0.94  0.93"
      ]
     },
     "execution_count": 54,
     "metadata": {},
     "output_type": "execute_result"
    }
   ],
   "source": [
    "mse = round(metrics.mean_squared_error(y_test, predictions), 2)\n",
    "rmse = round(metrics.root_mean_squared_error(y_test, predictions), 2)\n",
    "mae = round(metrics.mean_absolute_error(y_test, predictions), 2)\n",
    "r2 = round(metrics.r2_score(y_test, predictions), 2)\n",
    "\n",
    "metrics_df[\"KNN\"] = [mse, rmse, mae, r2]\n",
    "metrics_df"
   ]
  }
 ],
 "metadata": {
  "kernelspec": {
   "display_name": ".venv",
   "language": "python",
   "name": "python3"
  },
  "language_info": {
   "codemirror_mode": {
    "name": "ipython",
    "version": 3
   },
   "file_extension": ".py",
   "mimetype": "text/x-python",
   "name": "python",
   "nbconvert_exporter": "python",
   "pygments_lexer": "ipython3",
   "version": "3.10.13"
  }
 },
 "nbformat": 4,
 "nbformat_minor": 2
}
